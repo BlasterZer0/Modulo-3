{
  "nbformat": 4,
  "nbformat_minor": 0,
  "metadata": {
    "colab": {
      "provenance": []
    },
    "kernelspec": {
      "name": "python3",
      "display_name": "Python 3"
    },
    "language_info": {
      "name": "python"
    }
  },
  "cells": [
    {
      "cell_type": "code",
      "source": [
        "import pandas as pd\n",
        "from datetime import date\n",
        "\n",
        "i = 1\n",
        "fileList = []\n",
        "while i < 8:\n",
        "    loadList = 'data/dm2019-01-0'+str(i)+'.xls'\n",
        "    fileList.append(loadList)\n",
        "    i += 1\n",
        "\n",
        "df = pd.read_excel(fileList[0])\n",
        "\n",
        "c = 0\n",
        "getColumn = []\n",
        "while c < df.shape[1]:\n",
        "    selectColumn = df.iloc[3 , c]\n",
        "    getColumn.append(selectColumn)\n",
        "    c += 1\n",
        "\n",
        "d = df.iloc[1 , 0].split(\",\")[1].strip(' ').split(\" \")\n",
        "d[1] = 1\n",
        "dFix = date(int(d[2]) , d[1] , int(d[0]))\n",
        "df['Fecha'] = pd.to_datetime(dFix)\n",
        "\n",
        "print(getColumn)\n",
        "\n",
        "#df = pd.concat(map(pd.read_excel, data))\n",
        "#print(data)\n",
        "\n",
        "\n",
        "#print(df)\n",
        "\n",
        "print(f'Filas: {df.shape[0]}, Columnas: {df.shape[1]}')\n",
        "\n",
        "#print(df.dtypes)\n"
      ],
      "metadata": {
        "id": "_DbcfV70tKgb"
      },
      "execution_count": null,
      "outputs": []
    }
  ]
}